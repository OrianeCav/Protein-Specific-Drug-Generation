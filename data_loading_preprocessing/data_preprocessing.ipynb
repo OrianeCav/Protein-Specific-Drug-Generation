{
 "cells": [
  {
   "cell_type": "code",
   "execution_count": 2,
   "metadata": {},
   "outputs": [
    {
     "name": "stderr",
     "output_type": "stream",
     "text": [
      "/Users/orianecavrois/Documents/Perso/MachineLearning/Github/Protein-Specific-Drug-Generation/.venv/lib/python3.11/site-packages/tqdm/auto.py:21: TqdmWarning: IProgress not found. Please update jupyter and ipywidgets. See https://ipywidgets.readthedocs.io/en/stable/user_install.html\n",
      "  from .autonotebook import tqdm as notebook_tqdm\n"
     ]
    }
   ],
   "source": [
    "import os\n",
    "import re\n",
    "import shutil\n",
    "import random\n",
    "\n",
    "import pickle\n",
    "import joblib\n",
    "import pandas as pd\n",
    "import numpy as np\n",
    "import matplotlib.pyplot as plt\n",
    "import torch\n",
    "import torch.nn as nn\n",
    "from torch.nn.utils.rnn import pack_padded_sequence, pad_packed_sequence\n",
    "from torch import optim\n",
    "import torch.nn.functional as F\n",
    "from torchvision import models, transforms, datasets, utils\n",
    "from tqdm import tqdm\n",
    "from tqdm import tqdm_notebook\n",
    "from sklearn.model_selection import KFold\n",
    "from sklearn.model_selection import train_test_split\n",
    "import itertools\n",
    "\n",
    "pd.set_option('display.max_columns', 1000)\n",
    "\n",
    "%load_ext autoreload\n",
    "%autoreload 2"
   ]
  },
  {
   "cell_type": "markdown",
   "metadata": {},
   "source": [
    "### Use available device"
   ]
  },
  {
   "cell_type": "code",
   "execution_count": 3,
   "metadata": {},
   "outputs": [],
   "source": [
    "device = \"cpu\"\n",
    "# if torch.cuda.is_available():\n",
    "#     print(\"using gpu\")\n",
    "#     device = torch.device(\"gpu\")\n",
    "# elif torch.backends.mps.is_available():\n",
    "#     print(\"using mps\")\n",
    "#     device = torch.device(\"mps\")"
   ]
  },
  {
   "cell_type": "code",
   "execution_count": 4,
   "metadata": {},
   "outputs": [],
   "source": [
    "df = pd.read_csv('preprocessed_data.csv')"
   ]
  },
  {
   "cell_type": "code",
   "execution_count": 5,
   "metadata": {},
   "outputs": [
    {
     "data": {
      "text/html": [
       "<div>\n",
       "<style scoped>\n",
       "    .dataframe tbody tr th:only-of-type {\n",
       "        vertical-align: middle;\n",
       "    }\n",
       "\n",
       "    .dataframe tbody tr th {\n",
       "        vertical-align: top;\n",
       "    }\n",
       "\n",
       "    .dataframe thead th {\n",
       "        text-align: right;\n",
       "    }\n",
       "</style>\n",
       "<table border=\"1\" class=\"dataframe\">\n",
       "  <thead>\n",
       "    <tr style=\"text-align: right;\">\n",
       "      <th></th>\n",
       "      <th>Unnamed: 0</th>\n",
       "      <th>BindingDB Reactant_set_id</th>\n",
       "      <th>Ligand SMILES</th>\n",
       "      <th>Ligand InChI</th>\n",
       "      <th>Ligand InChI Key</th>\n",
       "      <th>BindingDB MonomerID</th>\n",
       "      <th>BindingDB Ligand Name</th>\n",
       "      <th>Target Name</th>\n",
       "      <th>Target Source Organism According to Curator or DataSource</th>\n",
       "      <th>BindingDB Target Chain Sequence</th>\n",
       "      <th>Target Source Organism According to Curator or DataSource.1</th>\n",
       "    </tr>\n",
       "  </thead>\n",
       "  <tbody>\n",
       "    <tr>\n",
       "      <th>0</th>\n",
       "      <td>1960</td>\n",
       "      <td>1961</td>\n",
       "      <td>Fc1ccc(cc1)C1(CC1)C(=O)N1CC2CC2(C1)c1c[nH]c2nc...</td>\n",
       "      <td>InChI=1S/C22H20FN3O/c23-16-5-3-14(4-6-16)21(7-...</td>\n",
       "      <td>NVEWYSISVYQERO-UHFFFAOYSA-N</td>\n",
       "      <td>50390707</td>\n",
       "      <td>CHEMBL2070316::US8486964, 1</td>\n",
       "      <td>11-beta-hydroxysteroid dehydrogenase 1</td>\n",
       "      <td>Homo sapiens</td>\n",
       "      <td>MAFMKKYLLPILGLFMAYYYYSANEEFRPEMLQGKKVIVTGASKGI...</td>\n",
       "      <td>Homo sapiens</td>\n",
       "    </tr>\n",
       "    <tr>\n",
       "      <th>1</th>\n",
       "      <td>2879</td>\n",
       "      <td>2880</td>\n",
       "      <td>Cn1ncc2c(cccc12)-c1cccn2nc(Nc3ccc4CCN(CCc4c3)C...</td>\n",
       "      <td>InChI=1S/C29H31N7O2/c1-29(2,3)38-28(37)35-15-1...</td>\n",
       "      <td>MAZKPYXDQCNDAZ-UHFFFAOYSA-N</td>\n",
       "      <td>2013</td>\n",
       "      <td>US8501936, 298::US8501936, 300</td>\n",
       "      <td>Tyrosine-protein kinase JAK2</td>\n",
       "      <td>Homo sapiens</td>\n",
       "      <td>MGMACLTMTEMEGTSTSSIYQNGDISGNANSMKQIDPVLQVYLYHS...</td>\n",
       "      <td>Homo sapiens</td>\n",
       "    </tr>\n",
       "    <tr>\n",
       "      <th>2</th>\n",
       "      <td>3038</td>\n",
       "      <td>3039</td>\n",
       "      <td>Cn1ncc2c(cccc12)-c1cccn2nc(Nc3ccc4CCN(CCc4c3)C...</td>\n",
       "      <td>InChI=1S/C29H31N7O2/c1-29(2,3)38-28(37)35-15-1...</td>\n",
       "      <td>MAZKPYXDQCNDAZ-UHFFFAOYSA-N</td>\n",
       "      <td>2013</td>\n",
       "      <td>US8501936, 298::US8501936, 300</td>\n",
       "      <td>Tyrosine-protein kinase JAK2</td>\n",
       "      <td>Homo sapiens</td>\n",
       "      <td>MGMACLTMTEMEGTSTSSIYQNGDISGNANSMKQIDPVLQVYLYHS...</td>\n",
       "      <td>Homo sapiens</td>\n",
       "    </tr>\n",
       "    <tr>\n",
       "      <th>3</th>\n",
       "      <td>3129</td>\n",
       "      <td>3130</td>\n",
       "      <td>CN[C@@H]1C[C@H]2O[C@@](C)([C@@H]1OC)n1c3ccccc3...</td>\n",
       "      <td>InChI=1S/C28H26N4O3/c1-28-26(34-3)17(29-2)12-2...</td>\n",
       "      <td>HKSZLNNOFSGOKW-FYTWVXJKSA-N</td>\n",
       "      <td>2579</td>\n",
       "      <td>(2S,3R,4R,6R)-3-methoxy-2-methyl-4-(methylamin...</td>\n",
       "      <td>Protein kinase C beta type</td>\n",
       "      <td>Rattus norvegicus</td>\n",
       "      <td>MADPAAGPPPSEGEESTVRFARKGALRQKNVHEVKNHKFTARFFKQ...</td>\n",
       "      <td>Rattus norvegicus</td>\n",
       "    </tr>\n",
       "    <tr>\n",
       "      <th>4</th>\n",
       "      <td>3322</td>\n",
       "      <td>3323</td>\n",
       "      <td>O=C1NC(=O)C(=C1c1c[nH]c2ccccc12)c1c[nH]c2ccccc12</td>\n",
       "      <td>InChI=1S/C20H13N3O2/c24-19-17(13-9-21-15-7-3-1...</td>\n",
       "      <td>DQYBRTASHMYDJG-UHFFFAOYSA-N</td>\n",
       "      <td>2583</td>\n",
       "      <td>3,4-Bis(3-indolyl)-1H-pyrrole-2,5-dione::3,4-b...</td>\n",
       "      <td>cAMP-dependent protein kinase catalytic subuni...</td>\n",
       "      <td>Bos taurus</td>\n",
       "      <td>MGNAAAAKKGSEQESVKEFLAKAKEDFLKKWENPAQNTAHLDQFER...</td>\n",
       "      <td>Bos taurus</td>\n",
       "    </tr>\n",
       "    <tr>\n",
       "      <th>...</th>\n",
       "      <td>...</td>\n",
       "      <td>...</td>\n",
       "      <td>...</td>\n",
       "      <td>...</td>\n",
       "      <td>...</td>\n",
       "      <td>...</td>\n",
       "      <td>...</td>\n",
       "      <td>...</td>\n",
       "      <td>...</td>\n",
       "      <td>...</td>\n",
       "      <td>...</td>\n",
       "    </tr>\n",
       "    <tr>\n",
       "      <th>462033</th>\n",
       "      <td>2830480</td>\n",
       "      <td>51508286</td>\n",
       "      <td>C[C@@H]1c2ccc(cc2C(=CN(C)C1=O)c1cnn(C)c1)[C@@H...</td>\n",
       "      <td>InChI=1S/C18H21N3O3/c1-11-14-5-4-12(17(23)10-2...</td>\n",
       "      <td>CJVJSGBELMMESS-DIFFPNOSSA-N</td>\n",
       "      <td>50607768</td>\n",
       "      <td>CHEMBL5219602</td>\n",
       "      <td>C-C motif chemokine 2</td>\n",
       "      <td>Homo sapiens</td>\n",
       "      <td>MKVSAALLCLLLIAATFIPQGLAQPDAINAPVTCCYNFTNRKISVQ...</td>\n",
       "      <td>Homo sapiens</td>\n",
       "    </tr>\n",
       "    <tr>\n",
       "      <th>462034</th>\n",
       "      <td>2830481</td>\n",
       "      <td>51508287</td>\n",
       "      <td>C[C@@H]1c2ccc(OCCO)cc2C(=CN(C)C1=O)c1c[nH]c(C)n1</td>\n",
       "      <td>InChI=1S/C18H21N3O3/c1-11-14-5-4-13(24-7-6-22)...</td>\n",
       "      <td>JKHAONFZTKWYFI-LLVKDONJSA-N</td>\n",
       "      <td>50607769</td>\n",
       "      <td>CHEMBL5219538</td>\n",
       "      <td>C-C motif chemokine 2</td>\n",
       "      <td>Homo sapiens</td>\n",
       "      <td>MKVSAALLCLLLIAATFIPQGLAQPDAINAPVTCCYNFTNRKISVQ...</td>\n",
       "      <td>Homo sapiens</td>\n",
       "    </tr>\n",
       "    <tr>\n",
       "      <th>462035</th>\n",
       "      <td>2830482</td>\n",
       "      <td>51508288</td>\n",
       "      <td>C[C@@H]1c2ccc(cc2C(=CN(C)C1=O)c1cnn(C)c1)C(CO)CO</td>\n",
       "      <td>InChI=1S/C19H23N3O3/c1-12-16-5-4-13(15(10-23)1...</td>\n",
       "      <td>XRYCKSUJUPLGRF-GFCCVEGCSA-N</td>\n",
       "      <td>50607770</td>\n",
       "      <td>CHEMBL5219919</td>\n",
       "      <td>C-C motif chemokine 2</td>\n",
       "      <td>Homo sapiens</td>\n",
       "      <td>MKVSAALLCLLLIAATFIPQGLAQPDAINAPVTCCYNFTNRKISVQ...</td>\n",
       "      <td>Homo sapiens</td>\n",
       "    </tr>\n",
       "    <tr>\n",
       "      <th>462036</th>\n",
       "      <td>2830519</td>\n",
       "      <td>51508325</td>\n",
       "      <td>CN(CCOc1ccc(C[C@H](Nc2ccccc2C(=O)c2ccccc2)C(O)...</td>\n",
       "      <td>InChI=1S/C30H29N3O4/c1-33(28-13-7-8-18-31-28)1...</td>\n",
       "      <td>QTQMRBZOBKYXCG-MHZLTWQESA-N</td>\n",
       "      <td>50085048</td>\n",
       "      <td>(S)-2-(2-Benzoyl-phenylamino)-3-{4-[2-(methyl-...</td>\n",
       "      <td>Peroxisome proliferator-activated receptor gamma</td>\n",
       "      <td>Homo sapiens</td>\n",
       "      <td>MGETLGDSPIDPESDSFTDTLSANISQEMTMVDTEMPFWPTNFGIS...</td>\n",
       "      <td>Homo sapiens</td>\n",
       "    </tr>\n",
       "    <tr>\n",
       "      <th>462037</th>\n",
       "      <td>2830523</td>\n",
       "      <td>51508329</td>\n",
       "      <td>C\\C(\\C=C\\C1=C(C)CCCC1(C)C)=C\\C=C\\C(\\C)=C\\C(O)=O</td>\n",
       "      <td>InChI=1S/C20H28O2/c1-15(8-6-9-16(2)14-19(21)22...</td>\n",
       "      <td>SHGAZHPCJJPHSC-ZVCIMWCZSA-N</td>\n",
       "      <td>31892</td>\n",
       "      <td>9-cis retinoic acid::9C-RA::CHEMBL705::Panreti...</td>\n",
       "      <td>Retinoic acid receptor RXR-alpha</td>\n",
       "      <td>Homo sapiens</td>\n",
       "      <td>MDTKHFLPLDFSTQVNSSLTSPTGRGSMAAPSLHPSLGPGIGSPGQ...</td>\n",
       "      <td>Homo sapiens</td>\n",
       "    </tr>\n",
       "  </tbody>\n",
       "</table>\n",
       "<p>462038 rows × 11 columns</p>\n",
       "</div>"
      ],
      "text/plain": [
       "        Unnamed: 0  BindingDB Reactant_set_id  \\\n",
       "0             1960                       1961   \n",
       "1             2879                       2880   \n",
       "2             3038                       3039   \n",
       "3             3129                       3130   \n",
       "4             3322                       3323   \n",
       "...            ...                        ...   \n",
       "462033     2830480                   51508286   \n",
       "462034     2830481                   51508287   \n",
       "462035     2830482                   51508288   \n",
       "462036     2830519                   51508325   \n",
       "462037     2830523                   51508329   \n",
       "\n",
       "                                            Ligand SMILES  \\\n",
       "0       Fc1ccc(cc1)C1(CC1)C(=O)N1CC2CC2(C1)c1c[nH]c2nc...   \n",
       "1       Cn1ncc2c(cccc12)-c1cccn2nc(Nc3ccc4CCN(CCc4c3)C...   \n",
       "2       Cn1ncc2c(cccc12)-c1cccn2nc(Nc3ccc4CCN(CCc4c3)C...   \n",
       "3       CN[C@@H]1C[C@H]2O[C@@](C)([C@@H]1OC)n1c3ccccc3...   \n",
       "4        O=C1NC(=O)C(=C1c1c[nH]c2ccccc12)c1c[nH]c2ccccc12   \n",
       "...                                                   ...   \n",
       "462033  C[C@@H]1c2ccc(cc2C(=CN(C)C1=O)c1cnn(C)c1)[C@@H...   \n",
       "462034   C[C@@H]1c2ccc(OCCO)cc2C(=CN(C)C1=O)c1c[nH]c(C)n1   \n",
       "462035   C[C@@H]1c2ccc(cc2C(=CN(C)C1=O)c1cnn(C)c1)C(CO)CO   \n",
       "462036  CN(CCOc1ccc(C[C@H](Nc2ccccc2C(=O)c2ccccc2)C(O)...   \n",
       "462037    C\\C(\\C=C\\C1=C(C)CCCC1(C)C)=C\\C=C\\C(\\C)=C\\C(O)=O   \n",
       "\n",
       "                                             Ligand InChI  \\\n",
       "0       InChI=1S/C22H20FN3O/c23-16-5-3-14(4-6-16)21(7-...   \n",
       "1       InChI=1S/C29H31N7O2/c1-29(2,3)38-28(37)35-15-1...   \n",
       "2       InChI=1S/C29H31N7O2/c1-29(2,3)38-28(37)35-15-1...   \n",
       "3       InChI=1S/C28H26N4O3/c1-28-26(34-3)17(29-2)12-2...   \n",
       "4       InChI=1S/C20H13N3O2/c24-19-17(13-9-21-15-7-3-1...   \n",
       "...                                                   ...   \n",
       "462033  InChI=1S/C18H21N3O3/c1-11-14-5-4-12(17(23)10-2...   \n",
       "462034  InChI=1S/C18H21N3O3/c1-11-14-5-4-13(24-7-6-22)...   \n",
       "462035  InChI=1S/C19H23N3O3/c1-12-16-5-4-13(15(10-23)1...   \n",
       "462036  InChI=1S/C30H29N3O4/c1-33(28-13-7-8-18-31-28)1...   \n",
       "462037  InChI=1S/C20H28O2/c1-15(8-6-9-16(2)14-19(21)22...   \n",
       "\n",
       "                   Ligand InChI Key  BindingDB MonomerID  \\\n",
       "0       NVEWYSISVYQERO-UHFFFAOYSA-N             50390707   \n",
       "1       MAZKPYXDQCNDAZ-UHFFFAOYSA-N                 2013   \n",
       "2       MAZKPYXDQCNDAZ-UHFFFAOYSA-N                 2013   \n",
       "3       HKSZLNNOFSGOKW-FYTWVXJKSA-N                 2579   \n",
       "4       DQYBRTASHMYDJG-UHFFFAOYSA-N                 2583   \n",
       "...                             ...                  ...   \n",
       "462033  CJVJSGBELMMESS-DIFFPNOSSA-N             50607768   \n",
       "462034  JKHAONFZTKWYFI-LLVKDONJSA-N             50607769   \n",
       "462035  XRYCKSUJUPLGRF-GFCCVEGCSA-N             50607770   \n",
       "462036  QTQMRBZOBKYXCG-MHZLTWQESA-N             50085048   \n",
       "462037  SHGAZHPCJJPHSC-ZVCIMWCZSA-N                31892   \n",
       "\n",
       "                                    BindingDB Ligand Name  \\\n",
       "0                             CHEMBL2070316::US8486964, 1   \n",
       "1                          US8501936, 298::US8501936, 300   \n",
       "2                          US8501936, 298::US8501936, 300   \n",
       "3       (2S,3R,4R,6R)-3-methoxy-2-methyl-4-(methylamin...   \n",
       "4       3,4-Bis(3-indolyl)-1H-pyrrole-2,5-dione::3,4-b...   \n",
       "...                                                   ...   \n",
       "462033                                      CHEMBL5219602   \n",
       "462034                                      CHEMBL5219538   \n",
       "462035                                      CHEMBL5219919   \n",
       "462036  (S)-2-(2-Benzoyl-phenylamino)-3-{4-[2-(methyl-...   \n",
       "462037  9-cis retinoic acid::9C-RA::CHEMBL705::Panreti...   \n",
       "\n",
       "                                              Target Name  \\\n",
       "0                  11-beta-hydroxysteroid dehydrogenase 1   \n",
       "1                            Tyrosine-protein kinase JAK2   \n",
       "2                            Tyrosine-protein kinase JAK2   \n",
       "3                              Protein kinase C beta type   \n",
       "4       cAMP-dependent protein kinase catalytic subuni...   \n",
       "...                                                   ...   \n",
       "462033                              C-C motif chemokine 2   \n",
       "462034                              C-C motif chemokine 2   \n",
       "462035                              C-C motif chemokine 2   \n",
       "462036   Peroxisome proliferator-activated receptor gamma   \n",
       "462037                   Retinoic acid receptor RXR-alpha   \n",
       "\n",
       "       Target Source Organism According to Curator or DataSource  \\\n",
       "0                                            Homo sapiens          \n",
       "1                                            Homo sapiens          \n",
       "2                                            Homo sapiens          \n",
       "3                                       Rattus norvegicus          \n",
       "4                                              Bos taurus          \n",
       "...                                                   ...          \n",
       "462033                                       Homo sapiens          \n",
       "462034                                       Homo sapiens          \n",
       "462035                                       Homo sapiens          \n",
       "462036                                       Homo sapiens          \n",
       "462037                                       Homo sapiens          \n",
       "\n",
       "                          BindingDB Target Chain Sequence  \\\n",
       "0       MAFMKKYLLPILGLFMAYYYYSANEEFRPEMLQGKKVIVTGASKGI...   \n",
       "1       MGMACLTMTEMEGTSTSSIYQNGDISGNANSMKQIDPVLQVYLYHS...   \n",
       "2       MGMACLTMTEMEGTSTSSIYQNGDISGNANSMKQIDPVLQVYLYHS...   \n",
       "3       MADPAAGPPPSEGEESTVRFARKGALRQKNVHEVKNHKFTARFFKQ...   \n",
       "4       MGNAAAAKKGSEQESVKEFLAKAKEDFLKKWENPAQNTAHLDQFER...   \n",
       "...                                                   ...   \n",
       "462033  MKVSAALLCLLLIAATFIPQGLAQPDAINAPVTCCYNFTNRKISVQ...   \n",
       "462034  MKVSAALLCLLLIAATFIPQGLAQPDAINAPVTCCYNFTNRKISVQ...   \n",
       "462035  MKVSAALLCLLLIAATFIPQGLAQPDAINAPVTCCYNFTNRKISVQ...   \n",
       "462036  MGETLGDSPIDPESDSFTDTLSANISQEMTMVDTEMPFWPTNFGIS...   \n",
       "462037  MDTKHFLPLDFSTQVNSSLTSPTGRGSMAAPSLHPSLGPGIGSPGQ...   \n",
       "\n",
       "       Target Source Organism According to Curator or DataSource.1  \n",
       "0                                            Homo sapiens           \n",
       "1                                            Homo sapiens           \n",
       "2                                            Homo sapiens           \n",
       "3                                       Rattus norvegicus           \n",
       "4                                              Bos taurus           \n",
       "...                                                   ...           \n",
       "462033                                       Homo sapiens           \n",
       "462034                                       Homo sapiens           \n",
       "462035                                       Homo sapiens           \n",
       "462036                                       Homo sapiens           \n",
       "462037                                       Homo sapiens           \n",
       "\n",
       "[462038 rows x 11 columns]"
      ]
     },
     "execution_count": 5,
     "metadata": {},
     "output_type": "execute_result"
    }
   ],
   "source": [
    "df"
   ]
  },
  {
   "cell_type": "code",
   "execution_count": 6,
   "metadata": {},
   "outputs": [
    {
     "data": {
      "text/plain": [
       "0         MAFMKKYLLPILGLFMAYYYYSANEEFRPEMLQGKKVIVTGASKGI...\n",
       "1         MGMACLTMTEMEGTSTSSIYQNGDISGNANSMKQIDPVLQVYLYHS...\n",
       "2         MGMACLTMTEMEGTSTSSIYQNGDISGNANSMKQIDPVLQVYLYHS...\n",
       "3         MADPAAGPPPSEGEESTVRFARKGALRQKNVHEVKNHKFTARFFKQ...\n",
       "4         MGNAAAAKKGSEQESVKEFLAKAKEDFLKKWENPAQNTAHLDQFER...\n",
       "                                ...                        \n",
       "462033    MKVSAALLCLLLIAATFIPQGLAQPDAINAPVTCCYNFTNRKISVQ...\n",
       "462034    MKVSAALLCLLLIAATFIPQGLAQPDAINAPVTCCYNFTNRKISVQ...\n",
       "462035    MKVSAALLCLLLIAATFIPQGLAQPDAINAPVTCCYNFTNRKISVQ...\n",
       "462036    MGETLGDSPIDPESDSFTDTLSANISQEMTMVDTEMPFWPTNFGIS...\n",
       "462037    MDTKHFLPLDFSTQVNSSLTSPTGRGSMAAPSLHPSLGPGIGSPGQ...\n",
       "Name: BindingDB Target Chain Sequence, Length: 462038, dtype: object"
      ]
     },
     "execution_count": 6,
     "metadata": {},
     "output_type": "execute_result"
    }
   ],
   "source": [
    "df['BindingDB Target Chain Sequence']"
   ]
  },
  {
   "cell_type": "code",
   "execution_count": 7,
   "metadata": {},
   "outputs": [
    {
     "data": {
      "text/plain": [
       "BindingDB Target Chain Sequence\n",
       "MAAVILESIFLKRSQQKKKTSPLNFKKRLFLLTVHKLSYYEYDFERGRRGSKKGSIDVEKITCVETVVPEKNPPPERQIPRRGEESSEMEQISIIERFPYPFQVVYDEGPLYVFSPTEELRKRWIHQLKNVIRYNSDLVQKYHPCFWIDGQYLCCSQTAKNAMGCQILENRNGSLKPGSSHRKTKKPLPPTPEEDQILKKPLPPEPAAAPVSTSELKKVVALYDYMPMNANDLQLRKGDEYFILEESNLPWWRARDKNGQEGYIPSNYVTEAEDSIEMYEWYSKHMTRSQAEQLLKQEGKEGGFIVRDSSKAGKYTVSVFAKSTGDPQGVIRHYVVCSTPQSQYYLAEKHLFSTIPELINYHQHNSAGLISRLKYPVSQQNKNAPSTAGLGYGSWEIDPKDLTFLKELGTGQFGVVKYGKWRGQYDVAIKMIKEGSMSEDEFIEEAKVMMNLSHEKLVQLYGVCTKQRPIFIITEYMANGCLLNYLREMRHRFQTQQLLEMCKDVCEAMEYLESKQFLHRDLAARNCLVNDQGVVKVSDFGLSRYVLDDEYTSSVGSKFPVRWSPPEVLMYSKFSSKSDIWAFGVLMWEIYSLGKMPYERFTNSETAEHIAQGLRLYRPHLASEKVYTIMYSCWHEKADERPTFKILLSNILDVMDEES                                                                                                                                                                                                                                                                                                                                                                                                                                                                                                                                                                           14120\n",
       "MPPGVDCPMEFWTKEENQSVVVDFLLPTGVYLNFPVSRNANLSTIKQLLWHRAQYEPLFHMLSGPEAYVFTCINQTAEQQELEDEQRRLCDVQPFLPVLRLVAREGDRVKKLINSQISLLIGKGLHEFDSLCDPEVNDFRAKMCQFCEEAAARRQQLGWEAWLQYSFPLQLEPSAQTWGPGTLRLPNRALLVNVKFEGSEESFTFQVSTKDVPLALMACALRKKATVFRQPLVEQPEDYTLQVNGRHEYLYGSYPLCQFQYICSCLHSGLTPHLTMVHSSSILAMRDEQSNPAPQVQKPRAKPPPIPAKKPSSVSLWSLEQPFRIELIQGSKVNADERMKLVVQAGLFHGNEMLCKTVSSSEVSVCSEPVWKQRLEFDINICDLPRMARLCFALYAVIEKAKKARSTKKKSKKADCPIAWANLMLFDYKDQLKTGERCLYMWPSVPDEKGELLNPTGTVRSNPNTDSAAALLICLPEVAPHPVYYPALEKILELGRHSECVHVTEEEQLQLREILERRGSGELYEHEKDLVWKLRHEVQEHFPEALARLLLVTKWNKHEDVAQMLYLLCSWPELPVLSALELLDFSFPDCHVGSFAIKSLRKLTDDELFQYLLQLVQVLKYESYLDCELTKFLLDRALANRKIGHFLFWHLRSEMHVPSVALRFGLILEAYCRGSTHHMKVLMKQGEALSKLKALNDFVKLSSQKTPKPQTKELMHLCMRQEAYLEALSHLQSPLDPSTLLAEVCVEQCTFMDSKMKPLWIMYSNEEAGSGGSVGIIFKNGDDLRQDMLTLQMIQLMDVLWKQEGLDLRMTPYGCLPTGDRTGLIEVVLRSDTIANIQLNKSNMAATAAFNKDALLNWLKSKNPGEALDRAIEEFTLSCAGYCVATYVLGIGDRHSDNIMIRESGQLFHIDFGHFLGNFKTKFGINRERVPFILTYDFVHVIQQGKTNNSEKFERFRGYCERAYTILRRHGLLFLHLFALMRAAGLPELSCSKDIQYLKDSLALGKTEEEALKHFRVKFNEALRESWKTKVNWLAHNVSKDNRQ                                                                                                                                                                           8736\n",
       "MRPSGTAGAALLALLAALCPASRALEEKKVCQGTSNKLTQLGTFEDHFLSLQRMFNNCEVVLGNLEITYVQRNYDLSFLKTIQEVAGYVLIALNTVERIPLENLQIIRGNMYYENSYALAVLSNYDANKTGLKELPMRNLQEILHGAVRFSNNPALCNVESIQWRDIVSSDFLSNMSMDFQNHLGSCQKCDPSCPNGSCWGAGEENCQKLTKIICAQQCSGRCRGKSPSDCCHNQCAAGCTGPRESDCLVCRKFRDEATCKDTCPPLMLYNPTTYQMDVNPEGKYSFGATCVKKCPRNYVVTDHGSCVRACGADSYEMEEDGVRKCKKCEGPCRKVCNGIGIGEFKDSLSINATNIKHFKNCTSISGDLHILPVAFRGDSFTHTPPLDPQELDILKTVKEITGFLLIQAWPENRTDLHAFENLEIIRGRTKQHGQFSLAVVSLNITSLGLRSLKEISDGDVIISGNKNLCYANTINWKKLFGTSGQKTKIISNRGENSCKATGQVCHALCSPEGCWGPEPRDCVSCRNVSRGRECVDKCNLLEGEPREFVENSECIQCHPECLPQAMNITCTGRGPDNCIQCAHYIDGPHCVKTCPAGVMGENNTLVWKYADAGHVCHLCHPNCTYGCTGPGLEGCPTNGPKIPSIATGMVGALLLLLVVALGIGLFMRRRHIVRKRTLRRLLQERELVEPLTPSGEAPNQALLRILKETEFKKIKVLGSGAFGTVYKGLWIPEGEKVKIPVAIKELREATSPKANKEILDEAYVMASVDNPHVCRLLGICLTSTVQLITQLMPFGCLLDYVREHKDNIGSQYLLNWCVQIAKGMNYLEDRRLVHRDLAARNVLVKTPQHVKITDFGLAKLLGAEEKEYHAEGGKVPIKWMALESILHRIYTHQSDVWSYGVTVWELMTFGSKPYDGIPASEISSILEKGERLPQPPICTIDVYMIMVKCWMIDADSRPKFRELIIEFSKMARDPQRYLVIQGDERMHLPSPTDSNFYRALMDEEDMDDVVDADEYLIPQQGFFSSPSTSRTPLLSSLSATSNNSTVACIDRNGLQSCPIKEDSFLQRYSSDPTGALTEDSIDDTFLPVPEYINQSVPKRPAGSVQNPVYHNQPLNPAPSRDPHYQDPHSTAVGNPEYLNTVQPTCVNSTFDSPAHWAQKGSHQISLDNPDYQQDFFPKEAKPNGIFKGSTAENAEYLRVAPQSSEFIGA     8039\n",
       "MGMACLTMTEMEGTSTSSIYQNGDISGNANSMKQIDPVLQVYLYHSLGKSEADYLTFPSGEYVAEEICIAASKACGITPVYHNMFALMSETERIWYPPNHVFHIDESTRHNVLYRIRFYFPRWYCSGSNRAYRHGISRGAEAPLLDDFVMSYLFAQWRHDFVHGWIKVPVTHETQEECLGMAVLDMMRIAKENDQTPLAIYNSISYKTFLPKCIRAKIQDYHILTRKRIRYRFRRFIQQFSQCKATARNLKLKYLINLETLQSAFYTEKFEVKEPGSGPSGEEIFATIIITGNGGIQWSRGKHKESETLTEQDLQLYCDFPNIIDVSIKQANQEGSNESRVVTIHKQDGKNLEIELSSLREALSFVSLIDGYYRLTADAHHYLCKEVAPPAVLENIQSNCHGPISMDFAISKLKKAGNQTGLYVLRCSPKDFNKYFLTFAVERENVIEYKHCLITKNENEEYNLSGTKKNFSSLKDLLNCYQMETVRSDNIIFQFTKCCPPKPKDKSNLLVFRTNGVSDVPTSPTLQRPTHMNQMVFHKIRNEDLIFNESLGQGTFTKIFKGVRREVGDYGQLHETEVLLKVLDKAHRNYSESFFEAASMMSKLSHKHLVLNYGVCVCGDENILVQEFVKFGSLDTYLKKNKNCINILWKLEVAKQLAWAMHFLEENTLIHGNVCAKNILLIREEDRKTGNPPFIKLSDPGISITVLPKDILQERIPWVPPECIENPKNLNLATDKWSFGTTLWEICSGGDKPLSALDSQRKLQFYEDRHQLPAPKWAELANLINNCMDYEPDFRPSFRAIIRDLNSLFTPDYELLTENDMLPNMRIGALGFSGAFEDRDPTQFEERHLKFLQQLGKGNFGSVEMCRYDPLQDNTGEVVAVKKLQHSTEEHLRDFEREIEILKSLQHDNIVKYKGVCYSAGRRNLKLIMEYLPYGSLRDYLQKHKERIDHIKLLQYTSQICKGMEYLGTKRYIHRDLATRNILVENENRVKIGDFGLTKVLPQDKEYYKVKEPGESPIFWYAPESLTESKFSVASDVWSFGVVLYELFTYIEKSKSPPAEFMRMIGNDKQGQMIVFHLIELLKNNGRLPRPDGCPDEIYMIMTECWNNNVNQRPSFRDLALRVDQIRDNMAG                                                                                   7772\n",
       "MNKPITPSTYVRCLNVGLIRKLSDFIDPQEGWKKLAVAIKKPSGDDRYNQFHIRRFEALLQTGKSPTSELLFDWGTTNCTVGDLVDLLIQNEFFAPASLLLPDAVPKTANTLPSKEAITVQQKQMPFCDKDRTLMTPVQNLEQSYMPPDSSSPENKSLEVSDTRFHSFSFYELKNVTNNFDERPISVGGNKMGEGGFGVVYKGYVNNTTVAVKKLAAMVDITTEELKQQFDQEIKVMAKCQHENLVELLGFSSDGDDLCLVYVYMPNGSLLDRLSCLDGTPPLSWHMRCKIAQGAANGINFLHENHHIHRDIKSANILLDEAFTAKISDFGLARASEKFAQTVMTSRIVGTTAYMAPEALRGEITPKSDIYSFGVVLLEIITGLPAVDEHREPQLLLDIKEEIEDEEKTIEDYIDKKMNDADSTSVEAMYSVASQCLHEKKNKRPDIKKVQQLLQEMTAS                                                                                                                                                                                                                                                                                                                                                                                                                                                                                                                                                                                                                                                                                                                                                                                   7508\n",
       "                                                                                                                                                                                                                                                                                                                                                                                                                                                                                                                                                                                                                                                                                                                                                                                                                                                                                                                                                                                                                                                                                                                                                                                                                                                              ...  \n",
       "MERWPWPSGGAWLLVAARALLQLLRSDLRLGRPLLAALALLAALDWLCQRLLPPPAALVVLAGAGWIALSRLARPPRLPVATRAVLITGCDTGFGKETAKKLDAMGFTVLATVLDLNGPGALELRARCSPRLKLLQMDLTKPEDISRVLEITKAHTASTGLWGLVNNAGLNMVVADVELSPVVTFRECMEVNFFGALELTKGLLPLLRHSRGRIVTVGSPAGDMPYPCLAAYGTSKAAIALLMDTFSCELLPWGIKVSIIQPGCFKTEAVTNVNLWEKRKQLLLANLPRELLQAYGEDYIEHLHGQFLNSLRMALPDLSPVVDAIIDALLAAQPRSRYYTGRGLGLMYFIHHYLPGGLRRRFLQNFFISHLLPRALRPGQPGPVHDTTQDPNPSPTVSAL                                                                                                                                                                                                                                                                                                                                                                                                                                                                                                                                                                                                                                                                                                                                                                                                                                                  1\n",
       "MNVSGCPGAGNASQAGGGGGWHPEAVIVPLLFALIFLVGTVGNTLVLAVLLRGGQAVSTTNLFILNLGVADLCFILCCVPFQATIYTLDGWVFGSLLCKAVHFLIFLTMHASSFTLAAVSLDRYLAIRYPLHSRELRTPRNALAAIGLIWGLSLLFSGPYLSYYRQSQLANLTVCHPAWSAPRRRAMDICTFVFSYLLPVLVLGLTYARTLRYLWRAVDPVAAGSGARRAKRKVTRMILIVAALFCLCWMPHHALILCVWFGQFPLTRATYALRILSHLVSYANSCVNPIVYALVSKHFRKGFRTICAGLLGRAPGRASGRVCAAARGTHSGSVLERESSDLLHMSEAAGALRPCPGASQPCILEPCPGPSWQGPKAGDSILTVDVA                                                                                                                                                                                                                                                                                                                                                                                                                                                                                                                                                                                                                                                                                                                                                                                                                                                               1\n",
       "EETRELQSLAAAVVPSAQTLKITDFSFSDFELSDLETALCTIRMFTDLNLVQNFQMKHEVLCRWILSVKKNYRKNVAYHNWRHAFNTAQCMFAALKAGKIQNKLTDLEILALLIAALSHDLDHRGVNNSYIQRSEHPLAQLYCHSIMEHHHFDQCLMILNSPGNQILSGLSIEEYKTTLKIIKQAILATDLALYIKRRGEFFELIRKNQFNLEDPHQKELFLAMLMTACDLSAITKPWPIQQRIAELVATEFFDQGDRERKELNIEPTDLMNREKKNKIPSMQVGFIDAICLQLYEALTHVSEDCFPLLDGCRKNRQKWQALAEQQ                                                                                                                                                                                                                                                                                                                                                                                                                                                                                                                                                                                                                                                                                                                                                                                                                                                                                                                            1\n",
       "MPTPSAPSPQPKGFRRAVSEQDAKQAEAVTSPRFIGRRQSLIEDARKEREAAAAAAAAAVASSEPGNPLEAVVFEERDGNAVLNLLFSLRGTKPSSLSRAVKVFETFEAKIHHLETRPAQRPLAGSPHLEYFVRFEVPSGDLAALLSSVRRVSDDVRSAREDKVPWFPRKVSELDKCHHLVTKFDPDLDLDHPGFSDQVYRQRRKLIAEIAFQYKHGEPIPHVEYTAEEIATWKEVYVTLKGLYATHACREHLEGFQLLERYCGYREDSIPQLEDVSRFLKERTGFQLRPVAGLLSARDFLASLAFRVFQCTQYIRHASSPMHSPEPDCCHELLGHVPMLADRTFAQFSQDIGLASLGASDEEIEKLSTVYWFTVEFGLCKQNGELKAYGAGLLSSYGELLHSLSEEPEVRAFDPDTAAVQPYQDQTYQPVYFVSESFNDAKDKLRNYASRIQRPFSVKFDPYTLAIDVLDSPHTIQRSLEGVQDELHTLAHALSAIS                                                                                                                                                                                                                                                                                                                                                                                                                                                                                                                                                                                                                                                                                                                                                1\n",
       "DVLSYHATCSKAEVDKFKAANIPLVSELAIDDIHFDDFSLDVDAMITAALRMFMELGMVQKFKIDYETLCRWLLTVRKNYRMVLYHNWRHAFNVCQLMFAMLTTAGFQDILTEVEILAVIVGCLCHDLDHRGTNNAFQAKSGSALAQLYGTSATLEHHHFNHAVMILQSEGHNIFANLSSKEYSDLMQLLKQSILATDLTLYFERRTEFFELVSKGEYDWNIKNHRDIFRSMLMTACDLGAVTKPWEISRQVAELVTSEFFEQGDRERLELKLTPSAIFDRNRKDELPRLQLEWIDSICMPLYQALVKVNVKLKPMLDSVATNRSKWEELHQKRLLASTASSSPASVMVAKEDRN                                                                                                                                                                                                                                                                                                                                                                                                                                                                                                                                                                                                                                                                                                                                                                                                                                                                                               1\n",
       "Name: count, Length: 1858, dtype: int64"
      ]
     },
     "execution_count": 7,
     "metadata": {},
     "output_type": "execute_result"
    }
   ],
   "source": [
    "df['BindingDB Target Chain Sequence'].value_counts()"
   ]
  },
  {
   "cell_type": "code",
   "execution_count": 8,
   "metadata": {},
   "outputs": [
    {
     "data": {
      "text/plain": [
       "BindingDB MonomerID\n",
       "2579        1282\n",
       "19149        693\n",
       "4814         310\n",
       "50308060     278\n",
       "16673        258\n",
       "            ... \n",
       "584319         1\n",
       "584320         1\n",
       "584321         1\n",
       "584323         1\n",
       "50607770       1\n",
       "Name: count, Length: 278773, dtype: int64"
      ]
     },
     "execution_count": 8,
     "metadata": {},
     "output_type": "execute_result"
    }
   ],
   "source": [
    "df['BindingDB MonomerID'].value_counts()"
   ]
  },
  {
   "cell_type": "code",
   "execution_count": 9,
   "metadata": {},
   "outputs": [
    {
     "data": {
      "text/plain": [
       "Ligand SMILES\n",
       "CN[C@@H]1C[C@H]2O[C@@](C)([C@@H]1OC)n1c3ccccc3c3c4CNC(=O)c4c4c5ccccc5n2c4c13                       1282\n",
       "ONC(=O)CCCCCCC(=O)Nc1ccccc1                                                                         693\n",
       "CCN(CC)CCNC(=O)c1c(C)[nH]c(\\C=C2/C(=O)Nc3ccc(F)cc23)c1C                                             310\n",
       "C[C@]12O[C@H](C[C@]1(O)CO)n1c3ccccc3c3c4C(=O)NCc4c4c5ccccc5n2c4c13                                  278\n",
       "CNC(=O)c1cc(Oc2ccc(NC(=O)Nc3ccc(Cl)c(c3)C(F)(F)F)cc2)ccn1                                           258\n",
       "                                                                                                   ... \n",
       "OCC(O)CCS(=O)(=O)NC(=O)c1ccc(cc1)N1C[C@@H]2C[C@H]1C[C@H]2OCc1c(onc1-c1c(Cl)cccc1Cl)C1CC1              1\n",
       "OC1(CCCCC1)S(=O)(=O)NC(=O)c1ccc(cc1)N1C[C@@H]2C[C@H]1C[C@H]2OCc1c(onc1-c1c(Cl)cccc1Cl)C1CC1           1\n",
       "OC1CCC(CC1)S(=O)(=O)NC(=O)c1ccc(cc1)N1C[C@@H]2C[C@H]1C[C@H]2OCc1c(onc1-c1c(Cl)cccc1Cl)C1CC1           1\n",
       "CCCCCCCCCCCCS(=O)(=O)NC(=O)c1ccc(N2C[C@@H]3C[C@H]2C[C@H]3OCc2c(onc2-c2c(Cl)cccc2Cl)C2CC2)c(F)c1       1\n",
       "C[C@@H]1c2ccc(cc2C(=CN(C)C1=O)c1cnn(C)c1)C(CO)CO                                                      1\n",
       "Name: count, Length: 277789, dtype: int64"
      ]
     },
     "execution_count": 9,
     "metadata": {},
     "output_type": "execute_result"
    }
   ],
   "source": [
    "df['Ligand SMILES'].value_counts()"
   ]
  },
  {
   "cell_type": "markdown",
   "metadata": {},
   "source": [
    "### Preprocess input"
   ]
  },
  {
   "cell_type": "code",
   "execution_count": 14,
   "metadata": {},
   "outputs": [],
   "source": [
    "# Check if all sequences are uppercase\n",
    "for value in df['BindingDB Target Chain Sequence'].values:\n",
    "    if value.upper() != value:\n",
    "        print(value)"
   ]
  },
  {
   "cell_type": "code",
   "execution_count": 15,
   "metadata": {},
   "outputs": [],
   "source": [
    "df['BindingDB Target Chain Sequence'] = df['BindingDB Target Chain Sequence'].apply(lambda x: x.upper())"
   ]
  },
  {
   "cell_type": "markdown",
   "metadata": {},
   "source": [
    "### Encode the acid amino and SMILES symbols"
   ]
  },
  {
   "cell_type": "code",
   "execution_count": 16,
   "metadata": {},
   "outputs": [
    {
     "name": "stderr",
     "output_type": "stream",
     "text": [
      "100%|██████████| 462038/462038 [00:36<00:00, 12793.64it/s]\n",
      "100%|██████████| 462038/462038 [00:03<00:00, 147032.07it/s]\n"
     ]
    }
   ],
   "source": [
    "PAD_IDX = 0\n",
    "SOS_IDX = 1\n",
    "EOS_IDX = 2\n",
    "\n",
    "PAD = '<pad>'\n",
    "SOS = '<sos>'\n",
    "EOS = '<eos>'\n",
    "\n",
    "symb2index = {'<pad>':0,'<sos>':1,'<eos>':2} # < or 0 marks the Beginning of a sequence, > or 1 marks the end of a sequence\n",
    "symb2count = {}\n",
    "index2symb = {0:'<pad>',1:'<sos>',2:'<eos>'} # < or 0 marks the Beginning of a sequence, > or 1 marks the end of a sequence\n",
    "\n",
    "for chain in tqdm(df['BindingDB Target Chain Sequence'].values):\n",
    "    for symb in chain.upper():\n",
    "        if symb not in symb2index.keys():\n",
    "            symb2index[symb] = len(symb2index.keys())\n",
    "            symb2count[symb] = 1\n",
    "            index2symb[len(symb2index.keys()) - 1] = symb\n",
    "        else:\n",
    "            symb2count[symb] += 1\n",
    "\n",
    "for chain in tqdm(df['Ligand SMILES'].values):\n",
    "    for symb in chain:\n",
    "        if symb not in symb2index.keys():\n",
    "            symb2index[symb] = len(symb2index.keys())\n",
    "            symb2count[symb] = 1\n",
    "            index2symb[len(symb2index.keys()) - 1] = symb\n",
    "        else:\n",
    "            symb2count[symb] += 1\n"
   ]
  },
  {
   "cell_type": "code",
   "execution_count": 17,
   "metadata": {},
   "outputs": [
    {
     "data": {
      "text/plain": [
       "{'<pad>': 0,\n",
       " '<sos>': 1,\n",
       " '<eos>': 2,\n",
       " 'M': 3,\n",
       " 'A': 4,\n",
       " 'F': 5,\n",
       " 'K': 6,\n",
       " 'Y': 7,\n",
       " 'L': 8,\n",
       " 'P': 9,\n",
       " 'I': 10,\n",
       " 'G': 11,\n",
       " 'S': 12,\n",
       " 'N': 13,\n",
       " 'E': 14,\n",
       " 'R': 15,\n",
       " 'Q': 16,\n",
       " 'V': 17,\n",
       " 'T': 18,\n",
       " 'H': 19,\n",
       " 'C': 20,\n",
       " 'D': 21,\n",
       " 'W': 22,\n",
       " 'c': 23,\n",
       " '1': 24,\n",
       " '(': 25,\n",
       " ')': 26,\n",
       " '=': 27,\n",
       " 'O': 28,\n",
       " '2': 29,\n",
       " '[': 30,\n",
       " 'n': 31,\n",
       " ']': 32,\n",
       " '-': 33,\n",
       " '3': 34,\n",
       " '4': 35,\n",
       " '@': 36,\n",
       " '5': 37,\n",
       " '+': 38,\n",
       " 'l': 39,\n",
       " 'B': 40,\n",
       " 'r': 41,\n",
       " '#': 42,\n",
       " '\\\\': 43,\n",
       " '/': 44,\n",
       " 's': 45,\n",
       " 'o': 46,\n",
       " '6': 47,\n",
       " 'b': 48,\n",
       " '.': 49,\n",
       " 'u': 50,\n",
       " 'i': 51,\n",
       " 'e': 52,\n",
       " 'a': 53,\n",
       " '7': 54,\n",
       " '8': 55,\n",
       " '9': 56,\n",
       " 'd': 57,\n",
       " '*': 58,\n",
       " 'Z': 59,\n",
       " 'g': 60,\n",
       " '%': 61,\n",
       " '0': 62}"
      ]
     },
     "execution_count": 17,
     "metadata": {},
     "output_type": "execute_result"
    }
   ],
   "source": [
    "symb2index"
   ]
  },
  {
   "cell_type": "code",
   "execution_count": 18,
   "metadata": {},
   "outputs": [
    {
     "data": {
      "text/plain": [
       "{'M': 7736972,\n",
       " 'A': 20145004,\n",
       " 'F': 13111819,\n",
       " 'K': 17778577,\n",
       " 'Y': 10617616,\n",
       " 'L': 31619214,\n",
       " 'P': 17505178,\n",
       " 'I': 15755803,\n",
       " 'G': 19599324,\n",
       " 'S': 23251366,\n",
       " 'N': 13467865,\n",
       " 'E': 20384665,\n",
       " 'R': 16239316,\n",
       " 'Q': 12711609,\n",
       " 'V': 20280005,\n",
       " 'T': 16138074,\n",
       " 'H': 8506707,\n",
       " 'C': 12029948,\n",
       " 'D': 15278248,\n",
       " 'W': 4428697,\n",
       " 'c': 6530317,\n",
       " '1': 2081769,\n",
       " '(': 2681481,\n",
       " ')': 2681481,\n",
       " '=': 799485,\n",
       " 'O': 1273819,\n",
       " '2': 1200594,\n",
       " '[': 502344,\n",
       " 'n': 1132085,\n",
       " ']': 502344,\n",
       " '-': 284847,\n",
       " '3': 509095,\n",
       " '4': 145312,\n",
       " '@': 564283,\n",
       " '5': 27146,\n",
       " '+': 8247,\n",
       " 'l': 123116,\n",
       " 'B': 13916,\n",
       " 'r': 12232,\n",
       " '#': 69068,\n",
       " '\\\\': 44321,\n",
       " '/': 12526,\n",
       " 's': 51437,\n",
       " 'o': 36387,\n",
       " '6': 2298,\n",
       " 'b': 2,\n",
       " '.': 3241,\n",
       " 'u': 32,\n",
       " 'i': 262,\n",
       " 'e': 196,\n",
       " 'a': 165,\n",
       " '7': 300,\n",
       " '8': 84,\n",
       " '9': 60,\n",
       " 'd': 5,\n",
       " '*': 3,\n",
       " 'Z': 1,\n",
       " 'g': 3,\n",
       " '%': 28,\n",
       " '0': 20}"
      ]
     },
     "execution_count": 18,
     "metadata": {},
     "output_type": "execute_result"
    }
   ],
   "source": [
    "symb2count"
   ]
  },
  {
   "cell_type": "code",
   "execution_count": 19,
   "metadata": {},
   "outputs": [
    {
     "data": {
      "text/plain": [
       "{0: '<pad>',\n",
       " 1: '<sos>',\n",
       " 2: '<eos>',\n",
       " 3: 'M',\n",
       " 4: 'A',\n",
       " 5: 'F',\n",
       " 6: 'K',\n",
       " 7: 'Y',\n",
       " 8: 'L',\n",
       " 9: 'P',\n",
       " 10: 'I',\n",
       " 11: 'G',\n",
       " 12: 'S',\n",
       " 13: 'N',\n",
       " 14: 'E',\n",
       " 15: 'R',\n",
       " 16: 'Q',\n",
       " 17: 'V',\n",
       " 18: 'T',\n",
       " 19: 'H',\n",
       " 20: 'C',\n",
       " 21: 'D',\n",
       " 22: 'W',\n",
       " 23: 'c',\n",
       " 24: '1',\n",
       " 25: '(',\n",
       " 26: ')',\n",
       " 27: '=',\n",
       " 28: 'O',\n",
       " 29: '2',\n",
       " 30: '[',\n",
       " 31: 'n',\n",
       " 32: ']',\n",
       " 33: '-',\n",
       " 34: '3',\n",
       " 35: '4',\n",
       " 36: '@',\n",
       " 37: '5',\n",
       " 38: '+',\n",
       " 39: 'l',\n",
       " 40: 'B',\n",
       " 41: 'r',\n",
       " 42: '#',\n",
       " 43: '\\\\',\n",
       " 44: '/',\n",
       " 45: 's',\n",
       " 46: 'o',\n",
       " 47: '6',\n",
       " 48: 'b',\n",
       " 49: '.',\n",
       " 50: 'u',\n",
       " 51: 'i',\n",
       " 52: 'e',\n",
       " 53: 'a',\n",
       " 54: '7',\n",
       " 55: '8',\n",
       " 56: '9',\n",
       " 57: 'd',\n",
       " 58: '*',\n",
       " 59: 'Z',\n",
       " 60: 'g',\n",
       " 61: '%',\n",
       " 62: '0'}"
      ]
     },
     "execution_count": 19,
     "metadata": {},
     "output_type": "execute_result"
    }
   ],
   "source": [
    "index2symb"
   ]
  },
  {
   "cell_type": "code",
   "execution_count": 20,
   "metadata": {},
   "outputs": [
    {
     "data": {
      "text/plain": [
       "63"
      ]
     },
     "execution_count": 20,
     "metadata": {},
     "output_type": "execute_result"
    }
   ],
   "source": [
    "len(symb2index)"
   ]
  },
  {
   "cell_type": "code",
   "execution_count": 21,
   "metadata": {},
   "outputs": [],
   "source": [
    "with open('symbole_to_index_encoding.pk', 'wb') as file:\n",
    "    pickle.dump(symb2index, file)\n",
    "    \n",
    "with open('index_to_symbol_decoding.pk', 'wb') as file:\n",
    "    pickle.dump(index2symb, file)"
   ]
  },
  {
   "cell_type": "markdown",
   "metadata": {},
   "source": [
    "### Create tensors of (ligand, protein) pairs"
   ]
  },
  {
   "cell_type": "code",
   "execution_count": 22,
   "metadata": {},
   "outputs": [
    {
     "name": "stderr",
     "output_type": "stream",
     "text": [
      "  0%|          | 0/462038 [00:00<?, ?it/s]"
     ]
    },
    {
     "name": "stderr",
     "output_type": "stream",
     "text": [
      "100%|██████████| 462038/462038 [00:03<00:00, 139922.10it/s]\n"
     ]
    }
   ],
   "source": [
    "pairs = []\n",
    "\n",
    "for index in tqdm(df.index):\n",
    "    pairs.append([df.loc[index,'BindingDB Target Chain Sequence'], df.loc[index,'Ligand SMILES']])"
   ]
  },
  {
   "cell_type": "code",
   "execution_count": 23,
   "metadata": {},
   "outputs": [],
   "source": [
    "def tensorsFromPair(pair):\n",
    "    target = pair[0]\n",
    "    ligand = pair[1]\n",
    "    \n",
    "    indexes_target = [symb2index[aa] for aa in target.upper()]\n",
    "    indexes_ligand = [SOS_IDX] + [symb2index[aa] for aa in ligand] + [EOS_IDX]\n",
    "    \n",
    "    target_tensor = torch.tensor(indexes_target, dtype=torch.long, device=device).view(-1, 1).to(\"cpu\")\n",
    "    ligand_tensor = torch.tensor(indexes_ligand, dtype=torch.long, device=device).view(-1, 1).to(\"cpu\")\n",
    "    \n",
    "    return (target_tensor, ligand_tensor)"
   ]
  },
  {
   "cell_type": "code",
   "execution_count": 24,
   "metadata": {},
   "outputs": [],
   "source": [
    "# Split train and test on unique target chain sequence\n",
    "target_train, target_test_val = train_test_split(df['BindingDB Target Chain Sequence'].unique(), test_size=0.3, random_state=42)\n",
    "target_val, target_test = train_test_split(target_test_val, test_size=0.5, random_state=42)"
   ]
  },
  {
   "cell_type": "code",
   "execution_count": 25,
   "metadata": {},
   "outputs": [],
   "source": [
    "pairs_train = [pair for pair in pairs if pair[0] in target_train]\n",
    "pairs_test = [pair for pair in pairs if pair[0] in target_test]\n",
    "pairs_val = [pair for pair in pairs if pair[0] in target_val]"
   ]
  },
  {
   "cell_type": "code",
   "execution_count": 26,
   "metadata": {},
   "outputs": [
    {
     "data": {
      "text/plain": [
       "337459"
      ]
     },
     "execution_count": 26,
     "metadata": {},
     "output_type": "execute_result"
    }
   ],
   "source": [
    "len(pairs_train)"
   ]
  },
  {
   "cell_type": "code",
   "execution_count": 27,
   "metadata": {},
   "outputs": [
    {
     "data": {
      "text/plain": [
       "52514"
      ]
     },
     "execution_count": 27,
     "metadata": {},
     "output_type": "execute_result"
    }
   ],
   "source": [
    "len(pairs_test)"
   ]
  },
  {
   "cell_type": "code",
   "execution_count": 28,
   "metadata": {},
   "outputs": [
    {
     "data": {
      "text/plain": [
       "72065"
      ]
     },
     "execution_count": 28,
     "metadata": {},
     "output_type": "execute_result"
    }
   ],
   "source": [
    "len(pairs_val)"
   ]
  },
  {
   "cell_type": "code",
   "execution_count": 29,
   "metadata": {},
   "outputs": [],
   "source": [
    "pairs_test_tensor = [tensorsFromPair(pv) for pv in pairs_test]\n",
    "pairs_val_tensor = [tensorsFromPair(pairs_val[pv]) for pv in np.random.choice(range(len(pairs_val)), size=len(pairs_val), replace=False)]\n",
    "pairs_train_tensor = [tensorsFromPair(pairs_train[pv]) for pv in np.random.choice(range(len(pairs_train)), size=len(pairs_train), replace=False)]"
   ]
  },
  {
   "cell_type": "code",
   "execution_count": 30,
   "metadata": {},
   "outputs": [
    {
     "data": {
      "text/plain": [
       "tensor([[ 1],\n",
       "        [20],\n",
       "        [28],\n",
       "        [23],\n",
       "        [24],\n",
       "        [23],\n",
       "        [23],\n",
       "        [23],\n",
       "        [23],\n",
       "        [23],\n",
       "        [24],\n",
       "        [12],\n",
       "        [23],\n",
       "        [24],\n",
       "        [23],\n",
       "        [23],\n",
       "        [23],\n",
       "        [25],\n",
       "        [43],\n",
       "        [20],\n",
       "        [27],\n",
       "        [20],\n",
       "        [43],\n",
       "        [20],\n",
       "        [25],\n",
       "        [27],\n",
       "        [28],\n",
       "        [26],\n",
       "        [13],\n",
       "        [29],\n",
       "        [20],\n",
       "        [20],\n",
       "        [20],\n",
       "        [25],\n",
       "        [20],\n",
       "        [20],\n",
       "        [29],\n",
       "        [26],\n",
       "        [20],\n",
       "        [25],\n",
       "        [28],\n",
       "        [26],\n",
       "        [27],\n",
       "        [28],\n",
       "        [26],\n",
       "        [23],\n",
       "        [25],\n",
       "        [23],\n",
       "        [24],\n",
       "        [20],\n",
       "        [25],\n",
       "        [ 5],\n",
       "        [26],\n",
       "        [25],\n",
       "        [ 5],\n",
       "        [26],\n",
       "        [ 5],\n",
       "        [26],\n",
       "        [20],\n",
       "        [25],\n",
       "        [ 5],\n",
       "        [26],\n",
       "        [25],\n",
       "        [ 5],\n",
       "        [26],\n",
       "        [ 5],\n",
       "        [ 2]])"
      ]
     },
     "execution_count": 30,
     "metadata": {},
     "output_type": "execute_result"
    }
   ],
   "source": [
    "pairs_train_tensor[0][1]"
   ]
  },
  {
   "cell_type": "code",
   "execution_count": 31,
   "metadata": {},
   "outputs": [
    {
     "name": "stdout",
     "output_type": "stream",
     "text": [
      "cpu\n"
     ]
    }
   ],
   "source": [
    "print(pairs_train_tensor[0][0].device)"
   ]
  },
  {
   "cell_type": "code",
   "execution_count": 32,
   "metadata": {},
   "outputs": [],
   "source": [
    "with open('pairs_train_tensors.pk', 'wb') as file:\n",
    "    pickle.dump(pairs_train_tensor, file)\n",
    "    \n",
    "with open('pairs_test_tensors.pk', 'wb') as file:\n",
    "    pickle.dump(pairs_test_tensor, file)\n",
    "    \n",
    "with open('pairs_val_tensors.pk', 'wb') as file:\n",
    "    pickle.dump(pairs_val_tensor, file)"
   ]
  },
  {
   "cell_type": "code",
   "execution_count": 33,
   "metadata": {},
   "outputs": [
    {
     "data": {
      "text/plain": [
       "{'<pad>': 0,\n",
       " '<sos>': 1,\n",
       " '<eos>': 2,\n",
       " 'M': 3,\n",
       " 'A': 4,\n",
       " 'F': 5,\n",
       " 'K': 6,\n",
       " 'Y': 7,\n",
       " 'L': 8,\n",
       " 'P': 9,\n",
       " 'I': 10,\n",
       " 'G': 11,\n",
       " 'S': 12,\n",
       " 'N': 13,\n",
       " 'E': 14,\n",
       " 'R': 15,\n",
       " 'Q': 16,\n",
       " 'V': 17,\n",
       " 'T': 18,\n",
       " 'H': 19,\n",
       " 'C': 20,\n",
       " 'D': 21,\n",
       " 'W': 22,\n",
       " 'c': 23,\n",
       " '1': 24,\n",
       " '(': 25,\n",
       " ')': 26,\n",
       " '=': 27,\n",
       " 'O': 28,\n",
       " '2': 29,\n",
       " '[': 30,\n",
       " 'n': 31,\n",
       " ']': 32,\n",
       " '-': 33,\n",
       " '3': 34,\n",
       " '4': 35,\n",
       " '@': 36,\n",
       " '5': 37,\n",
       " '+': 38,\n",
       " 'l': 39,\n",
       " 'B': 40,\n",
       " 'r': 41,\n",
       " '#': 42,\n",
       " '\\\\': 43,\n",
       " '/': 44,\n",
       " 's': 45,\n",
       " 'o': 46,\n",
       " '6': 47,\n",
       " 'b': 48,\n",
       " '.': 49,\n",
       " 'u': 50,\n",
       " 'i': 51,\n",
       " 'e': 52,\n",
       " 'a': 53,\n",
       " '7': 54,\n",
       " '8': 55,\n",
       " '9': 56,\n",
       " 'd': 57,\n",
       " '*': 58,\n",
       " 'Z': 59,\n",
       " 'g': 60,\n",
       " '%': 61,\n",
       " '0': 62}"
      ]
     },
     "execution_count": 33,
     "metadata": {},
     "output_type": "execute_result"
    }
   ],
   "source": [
    "symb2index"
   ]
  },
  {
   "cell_type": "code",
   "execution_count": 34,
   "metadata": {},
   "outputs": [],
   "source": [
    "with open('symbole_to_index_encoding.pk', 'wb') as file:\n",
    "    pickle.dump(symb2index, file)\n",
    "    \n",
    "with open('index_to_symbol_decoding.pk', 'wb') as file:\n",
    "    pickle.dump(index2symb, file)"
   ]
  },
  {
   "cell_type": "code",
   "execution_count": 35,
   "metadata": {},
   "outputs": [],
   "source": [
    "test = pd.read_pickle('pairs_train_tensors.pk')"
   ]
  },
  {
   "cell_type": "code",
   "execution_count": 36,
   "metadata": {},
   "outputs": [
    {
     "data": {
      "text/plain": [
       "device(type='cpu')"
      ]
     },
     "execution_count": 36,
     "metadata": {},
     "output_type": "execute_result"
    }
   ],
   "source": [
    "test[0][1].device"
   ]
  },
  {
   "cell_type": "code",
   "execution_count": null,
   "metadata": {},
   "outputs": [],
   "source": []
  }
 ],
 "metadata": {
  "kernelspec": {
   "display_name": ".venv",
   "language": "python",
   "name": "python3"
  },
  "language_info": {
   "codemirror_mode": {
    "name": "ipython",
    "version": 3
   },
   "file_extension": ".py",
   "mimetype": "text/x-python",
   "name": "python",
   "nbconvert_exporter": "python",
   "pygments_lexer": "ipython3",
   "version": "3.11.4"
  }
 },
 "nbformat": 4,
 "nbformat_minor": 2
}
